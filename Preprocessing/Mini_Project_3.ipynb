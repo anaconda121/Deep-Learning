{
  "nbformat": 4,
  "nbformat_minor": 0,
  "metadata": {
    "colab": {
      "name": "Mini Project 3.ipynb",
      "provenance": [],
      "collapsed_sections": [],
      "authorship_tag": "ABX9TyPLnkJqTBEYfu854buHpcvH",
      "include_colab_link": true
    },
    "kernelspec": {
      "name": "python3",
      "display_name": "Python 3"
    },
    "language_info": {
      "name": "python"
    }
  },
  "cells": [
    {
      "cell_type": "markdown",
      "metadata": {
        "id": "view-in-github",
        "colab_type": "text"
      },
      "source": [
        "<a href=\"https://colab.research.google.com/github/anaconda121/Deep-Learning/blob/main/Preprocessing/Mini_Project_3.ipynb\" target=\"_parent\"><img src=\"https://colab.research.google.com/assets/colab-badge.svg\" alt=\"Open In Colab\"/></a>"
      ]
    },
    {
      "cell_type": "code",
      "execution_count": 1,
      "metadata": {
        "colab": {
          "base_uri": "https://localhost:8080/"
        },
        "id": "1lOmTpJDKO5w",
        "outputId": "b4821adb-1608-48e0-954e-9c2f58aa994f"
      },
      "outputs": [
        {
          "output_type": "stream",
          "name": "stdout",
          "text": [
            "Mounted at /content/drive/\n"
          ]
        }
      ],
      "source": [
        "from google.colab import drive\n",
        "drive.mount(\"/content/drive/\")"
      ]
    },
    {
      "cell_type": "code",
      "source": [
        "import numpy as np\n",
        "import matplotlib.pyplot as plt\n",
        "import matplotlib.patches as patches\n",
        "import pandas as pd\n",
        "import seaborn as sns\n",
        "import math"
      ],
      "metadata": {
        "id": "Kcnj7lHmKxOb"
      },
      "execution_count": 2,
      "outputs": []
    },
    {
      "cell_type": "code",
      "source": [
        "sns.set()"
      ],
      "metadata": {
        "id": "iEXjyj76Lo85"
      },
      "execution_count": 3,
      "outputs": []
    },
    {
      "cell_type": "code",
      "source": [
        "data_raw = pd.read_csv(r\"/content/drive/MyDrive/Colab Notebooks/NFLRush.csv\")"
      ],
      "metadata": {
        "colab": {
          "base_uri": "https://localhost:8080/"
        },
        "id": "vHrAig1FKrLn",
        "outputId": "45f2ff0e-8c59-4c0a-f43c-7fae4f50b8df"
      },
      "execution_count": 4,
      "outputs": [
        {
          "output_type": "stream",
          "name": "stderr",
          "text": [
            "/usr/local/lib/python3.7/dist-packages/IPython/core/interactiveshell.py:2882: DtypeWarning: Columns (47) have mixed types.Specify dtype option on import or set low_memory=False.\n",
            "  exec(code_obj, self.user_global_ns, self.user_ns)\n"
          ]
        }
      ]
    },
    {
      "cell_type": "code",
      "source": [
        "data_raw.head()"
      ],
      "metadata": {
        "colab": {
          "base_uri": "https://localhost:8080/",
          "height": 357
        },
        "id": "JwCgTRz7KgK_",
        "outputId": "610fb3b6-53bf-436c-a97e-df34c7a0d22a"
      },
      "execution_count": 5,
      "outputs": [
        {
          "output_type": "execute_result",
          "data": {
            "text/html": [
              "\n",
              "  <div id=\"df-3d952b0e-e608-4356-9598-6b4d99f43687\">\n",
              "    <div class=\"colab-df-container\">\n",
              "      <div>\n",
              "<style scoped>\n",
              "    .dataframe tbody tr th:only-of-type {\n",
              "        vertical-align: middle;\n",
              "    }\n",
              "\n",
              "    .dataframe tbody tr th {\n",
              "        vertical-align: top;\n",
              "    }\n",
              "\n",
              "    .dataframe thead th {\n",
              "        text-align: right;\n",
              "    }\n",
              "</style>\n",
              "<table border=\"1\" class=\"dataframe\">\n",
              "  <thead>\n",
              "    <tr style=\"text-align: right;\">\n",
              "      <th></th>\n",
              "      <th>GameId</th>\n",
              "      <th>PlayId</th>\n",
              "      <th>Team</th>\n",
              "      <th>X</th>\n",
              "      <th>Y</th>\n",
              "      <th>S</th>\n",
              "      <th>A</th>\n",
              "      <th>Dis</th>\n",
              "      <th>Orientation</th>\n",
              "      <th>Dir</th>\n",
              "      <th>NflId</th>\n",
              "      <th>DisplayName</th>\n",
              "      <th>JerseyNumber</th>\n",
              "      <th>Season</th>\n",
              "      <th>YardLine</th>\n",
              "      <th>Quarter</th>\n",
              "      <th>GameClock</th>\n",
              "      <th>PossessionTeam</th>\n",
              "      <th>Down</th>\n",
              "      <th>Distance</th>\n",
              "      <th>FieldPosition</th>\n",
              "      <th>HomeScoreBeforePlay</th>\n",
              "      <th>VisitorScoreBeforePlay</th>\n",
              "      <th>NflIdRusher</th>\n",
              "      <th>OffenseFormation</th>\n",
              "      <th>OffensePersonnel</th>\n",
              "      <th>DefendersInTheBox</th>\n",
              "      <th>DefensePersonnel</th>\n",
              "      <th>PlayDirection</th>\n",
              "      <th>TimeHandoff</th>\n",
              "      <th>TimeSnap</th>\n",
              "      <th>Yards</th>\n",
              "      <th>PlayerHeight</th>\n",
              "      <th>PlayerWeight</th>\n",
              "      <th>PlayerBirthDate</th>\n",
              "      <th>PlayerCollegeName</th>\n",
              "      <th>Position</th>\n",
              "      <th>HomeTeamAbbr</th>\n",
              "      <th>VisitorTeamAbbr</th>\n",
              "      <th>Week</th>\n",
              "      <th>Stadium</th>\n",
              "      <th>Location</th>\n",
              "      <th>StadiumType</th>\n",
              "      <th>Turf</th>\n",
              "      <th>GameWeather</th>\n",
              "      <th>Temperature</th>\n",
              "      <th>Humidity</th>\n",
              "      <th>WindSpeed</th>\n",
              "      <th>WindDirection</th>\n",
              "    </tr>\n",
              "  </thead>\n",
              "  <tbody>\n",
              "    <tr>\n",
              "      <th>0</th>\n",
              "      <td>2017090700</td>\n",
              "      <td>20170907000118</td>\n",
              "      <td>away</td>\n",
              "      <td>73.91</td>\n",
              "      <td>34.84</td>\n",
              "      <td>1.69</td>\n",
              "      <td>1.13</td>\n",
              "      <td>0.40</td>\n",
              "      <td>81.99</td>\n",
              "      <td>177.18</td>\n",
              "      <td>496723</td>\n",
              "      <td>Eric Berry</td>\n",
              "      <td>29</td>\n",
              "      <td>2017</td>\n",
              "      <td>35</td>\n",
              "      <td>1</td>\n",
              "      <td>14:14:00</td>\n",
              "      <td>NE</td>\n",
              "      <td>3</td>\n",
              "      <td>2</td>\n",
              "      <td>NE</td>\n",
              "      <td>0</td>\n",
              "      <td>0</td>\n",
              "      <td>2543773</td>\n",
              "      <td>SHOTGUN</td>\n",
              "      <td>1 RB, 1 TE, 3 WR</td>\n",
              "      <td>6.0</td>\n",
              "      <td>2 DL, 3 LB, 6 DB</td>\n",
              "      <td>left</td>\n",
              "      <td>2017-09-08T00:44:06.000Z</td>\n",
              "      <td>2017-09-08T00:44:05.000Z</td>\n",
              "      <td>8</td>\n",
              "      <td>6-0</td>\n",
              "      <td>212</td>\n",
              "      <td>12/29/1988</td>\n",
              "      <td>Tennessee</td>\n",
              "      <td>SS</td>\n",
              "      <td>NE</td>\n",
              "      <td>KC</td>\n",
              "      <td>1</td>\n",
              "      <td>Gillette Stadium</td>\n",
              "      <td>Foxborough, MA</td>\n",
              "      <td>Outdoor</td>\n",
              "      <td>Field Turf</td>\n",
              "      <td>Clear and warm</td>\n",
              "      <td>63.0</td>\n",
              "      <td>77.0</td>\n",
              "      <td>8.0</td>\n",
              "      <td>SW</td>\n",
              "    </tr>\n",
              "    <tr>\n",
              "      <th>1</th>\n",
              "      <td>2017090700</td>\n",
              "      <td>20170907000118</td>\n",
              "      <td>away</td>\n",
              "      <td>74.67</td>\n",
              "      <td>32.64</td>\n",
              "      <td>0.42</td>\n",
              "      <td>1.35</td>\n",
              "      <td>0.01</td>\n",
              "      <td>27.61</td>\n",
              "      <td>198.70</td>\n",
              "      <td>2495116</td>\n",
              "      <td>Allen Bailey</td>\n",
              "      <td>97</td>\n",
              "      <td>2017</td>\n",
              "      <td>35</td>\n",
              "      <td>1</td>\n",
              "      <td>14:14:00</td>\n",
              "      <td>NE</td>\n",
              "      <td>3</td>\n",
              "      <td>2</td>\n",
              "      <td>NE</td>\n",
              "      <td>0</td>\n",
              "      <td>0</td>\n",
              "      <td>2543773</td>\n",
              "      <td>SHOTGUN</td>\n",
              "      <td>1 RB, 1 TE, 3 WR</td>\n",
              "      <td>6.0</td>\n",
              "      <td>2 DL, 3 LB, 6 DB</td>\n",
              "      <td>left</td>\n",
              "      <td>2017-09-08T00:44:06.000Z</td>\n",
              "      <td>2017-09-08T00:44:05.000Z</td>\n",
              "      <td>8</td>\n",
              "      <td>6-3</td>\n",
              "      <td>288</td>\n",
              "      <td>03/25/1989</td>\n",
              "      <td>Miami</td>\n",
              "      <td>DE</td>\n",
              "      <td>NE</td>\n",
              "      <td>KC</td>\n",
              "      <td>1</td>\n",
              "      <td>Gillette Stadium</td>\n",
              "      <td>Foxborough, MA</td>\n",
              "      <td>Outdoor</td>\n",
              "      <td>Field Turf</td>\n",
              "      <td>Clear and warm</td>\n",
              "      <td>63.0</td>\n",
              "      <td>77.0</td>\n",
              "      <td>8.0</td>\n",
              "      <td>SW</td>\n",
              "    </tr>\n",
              "    <tr>\n",
              "      <th>2</th>\n",
              "      <td>2017090700</td>\n",
              "      <td>20170907000118</td>\n",
              "      <td>away</td>\n",
              "      <td>74.00</td>\n",
              "      <td>33.20</td>\n",
              "      <td>1.22</td>\n",
              "      <td>0.59</td>\n",
              "      <td>0.31</td>\n",
              "      <td>3.01</td>\n",
              "      <td>202.73</td>\n",
              "      <td>2495493</td>\n",
              "      <td>Justin Houston</td>\n",
              "      <td>50</td>\n",
              "      <td>2017</td>\n",
              "      <td>35</td>\n",
              "      <td>1</td>\n",
              "      <td>14:14:00</td>\n",
              "      <td>NE</td>\n",
              "      <td>3</td>\n",
              "      <td>2</td>\n",
              "      <td>NE</td>\n",
              "      <td>0</td>\n",
              "      <td>0</td>\n",
              "      <td>2543773</td>\n",
              "      <td>SHOTGUN</td>\n",
              "      <td>1 RB, 1 TE, 3 WR</td>\n",
              "      <td>6.0</td>\n",
              "      <td>2 DL, 3 LB, 6 DB</td>\n",
              "      <td>left</td>\n",
              "      <td>2017-09-08T00:44:06.000Z</td>\n",
              "      <td>2017-09-08T00:44:05.000Z</td>\n",
              "      <td>8</td>\n",
              "      <td>6-3</td>\n",
              "      <td>270</td>\n",
              "      <td>01/21/1989</td>\n",
              "      <td>Georgia</td>\n",
              "      <td>DE</td>\n",
              "      <td>NE</td>\n",
              "      <td>KC</td>\n",
              "      <td>1</td>\n",
              "      <td>Gillette Stadium</td>\n",
              "      <td>Foxborough, MA</td>\n",
              "      <td>Outdoor</td>\n",
              "      <td>Field Turf</td>\n",
              "      <td>Clear and warm</td>\n",
              "      <td>63.0</td>\n",
              "      <td>77.0</td>\n",
              "      <td>8.0</td>\n",
              "      <td>SW</td>\n",
              "    </tr>\n",
              "    <tr>\n",
              "      <th>3</th>\n",
              "      <td>2017090700</td>\n",
              "      <td>20170907000118</td>\n",
              "      <td>away</td>\n",
              "      <td>71.46</td>\n",
              "      <td>27.70</td>\n",
              "      <td>0.42</td>\n",
              "      <td>0.54</td>\n",
              "      <td>0.02</td>\n",
              "      <td>359.77</td>\n",
              "      <td>105.64</td>\n",
              "      <td>2506353</td>\n",
              "      <td>Derrick Johnson</td>\n",
              "      <td>56</td>\n",
              "      <td>2017</td>\n",
              "      <td>35</td>\n",
              "      <td>1</td>\n",
              "      <td>14:14:00</td>\n",
              "      <td>NE</td>\n",
              "      <td>3</td>\n",
              "      <td>2</td>\n",
              "      <td>NE</td>\n",
              "      <td>0</td>\n",
              "      <td>0</td>\n",
              "      <td>2543773</td>\n",
              "      <td>SHOTGUN</td>\n",
              "      <td>1 RB, 1 TE, 3 WR</td>\n",
              "      <td>6.0</td>\n",
              "      <td>2 DL, 3 LB, 6 DB</td>\n",
              "      <td>left</td>\n",
              "      <td>2017-09-08T00:44:06.000Z</td>\n",
              "      <td>2017-09-08T00:44:05.000Z</td>\n",
              "      <td>8</td>\n",
              "      <td>6-3</td>\n",
              "      <td>245</td>\n",
              "      <td>11/22/1982</td>\n",
              "      <td>Texas</td>\n",
              "      <td>ILB</td>\n",
              "      <td>NE</td>\n",
              "      <td>KC</td>\n",
              "      <td>1</td>\n",
              "      <td>Gillette Stadium</td>\n",
              "      <td>Foxborough, MA</td>\n",
              "      <td>Outdoor</td>\n",
              "      <td>Field Turf</td>\n",
              "      <td>Clear and warm</td>\n",
              "      <td>63.0</td>\n",
              "      <td>77.0</td>\n",
              "      <td>8.0</td>\n",
              "      <td>SW</td>\n",
              "    </tr>\n",
              "    <tr>\n",
              "      <th>4</th>\n",
              "      <td>2017090700</td>\n",
              "      <td>20170907000118</td>\n",
              "      <td>away</td>\n",
              "      <td>69.32</td>\n",
              "      <td>35.42</td>\n",
              "      <td>1.82</td>\n",
              "      <td>2.43</td>\n",
              "      <td>0.16</td>\n",
              "      <td>12.63</td>\n",
              "      <td>164.31</td>\n",
              "      <td>2530794</td>\n",
              "      <td>Ron Parker</td>\n",
              "      <td>38</td>\n",
              "      <td>2017</td>\n",
              "      <td>35</td>\n",
              "      <td>1</td>\n",
              "      <td>14:14:00</td>\n",
              "      <td>NE</td>\n",
              "      <td>3</td>\n",
              "      <td>2</td>\n",
              "      <td>NE</td>\n",
              "      <td>0</td>\n",
              "      <td>0</td>\n",
              "      <td>2543773</td>\n",
              "      <td>SHOTGUN</td>\n",
              "      <td>1 RB, 1 TE, 3 WR</td>\n",
              "      <td>6.0</td>\n",
              "      <td>2 DL, 3 LB, 6 DB</td>\n",
              "      <td>left</td>\n",
              "      <td>2017-09-08T00:44:06.000Z</td>\n",
              "      <td>2017-09-08T00:44:05.000Z</td>\n",
              "      <td>8</td>\n",
              "      <td>6-0</td>\n",
              "      <td>206</td>\n",
              "      <td>08/17/1987</td>\n",
              "      <td>Newberry</td>\n",
              "      <td>FS</td>\n",
              "      <td>NE</td>\n",
              "      <td>KC</td>\n",
              "      <td>1</td>\n",
              "      <td>Gillette Stadium</td>\n",
              "      <td>Foxborough, MA</td>\n",
              "      <td>Outdoor</td>\n",
              "      <td>Field Turf</td>\n",
              "      <td>Clear and warm</td>\n",
              "      <td>63.0</td>\n",
              "      <td>77.0</td>\n",
              "      <td>8.0</td>\n",
              "      <td>SW</td>\n",
              "    </tr>\n",
              "  </tbody>\n",
              "</table>\n",
              "</div>\n",
              "      <button class=\"colab-df-convert\" onclick=\"convertToInteractive('df-3d952b0e-e608-4356-9598-6b4d99f43687')\"\n",
              "              title=\"Convert this dataframe to an interactive table.\"\n",
              "              style=\"display:none;\">\n",
              "        \n",
              "  <svg xmlns=\"http://www.w3.org/2000/svg\" height=\"24px\"viewBox=\"0 0 24 24\"\n",
              "       width=\"24px\">\n",
              "    <path d=\"M0 0h24v24H0V0z\" fill=\"none\"/>\n",
              "    <path d=\"M18.56 5.44l.94 2.06.94-2.06 2.06-.94-2.06-.94-.94-2.06-.94 2.06-2.06.94zm-11 1L8.5 8.5l.94-2.06 2.06-.94-2.06-.94L8.5 2.5l-.94 2.06-2.06.94zm10 10l.94 2.06.94-2.06 2.06-.94-2.06-.94-.94-2.06-.94 2.06-2.06.94z\"/><path d=\"M17.41 7.96l-1.37-1.37c-.4-.4-.92-.59-1.43-.59-.52 0-1.04.2-1.43.59L10.3 9.45l-7.72 7.72c-.78.78-.78 2.05 0 2.83L4 21.41c.39.39.9.59 1.41.59.51 0 1.02-.2 1.41-.59l7.78-7.78 2.81-2.81c.8-.78.8-2.07 0-2.86zM5.41 20L4 18.59l7.72-7.72 1.47 1.35L5.41 20z\"/>\n",
              "  </svg>\n",
              "      </button>\n",
              "      \n",
              "  <style>\n",
              "    .colab-df-container {\n",
              "      display:flex;\n",
              "      flex-wrap:wrap;\n",
              "      gap: 12px;\n",
              "    }\n",
              "\n",
              "    .colab-df-convert {\n",
              "      background-color: #E8F0FE;\n",
              "      border: none;\n",
              "      border-radius: 50%;\n",
              "      cursor: pointer;\n",
              "      display: none;\n",
              "      fill: #1967D2;\n",
              "      height: 32px;\n",
              "      padding: 0 0 0 0;\n",
              "      width: 32px;\n",
              "    }\n",
              "\n",
              "    .colab-df-convert:hover {\n",
              "      background-color: #E2EBFA;\n",
              "      box-shadow: 0px 1px 2px rgba(60, 64, 67, 0.3), 0px 1px 3px 1px rgba(60, 64, 67, 0.15);\n",
              "      fill: #174EA6;\n",
              "    }\n",
              "\n",
              "    [theme=dark] .colab-df-convert {\n",
              "      background-color: #3B4455;\n",
              "      fill: #D2E3FC;\n",
              "    }\n",
              "\n",
              "    [theme=dark] .colab-df-convert:hover {\n",
              "      background-color: #434B5C;\n",
              "      box-shadow: 0px 1px 3px 1px rgba(0, 0, 0, 0.15);\n",
              "      filter: drop-shadow(0px 1px 2px rgba(0, 0, 0, 0.3));\n",
              "      fill: #FFFFFF;\n",
              "    }\n",
              "  </style>\n",
              "\n",
              "      <script>\n",
              "        const buttonEl =\n",
              "          document.querySelector('#df-3d952b0e-e608-4356-9598-6b4d99f43687 button.colab-df-convert');\n",
              "        buttonEl.style.display =\n",
              "          google.colab.kernel.accessAllowed ? 'block' : 'none';\n",
              "\n",
              "        async function convertToInteractive(key) {\n",
              "          const element = document.querySelector('#df-3d952b0e-e608-4356-9598-6b4d99f43687');\n",
              "          const dataTable =\n",
              "            await google.colab.kernel.invokeFunction('convertToInteractive',\n",
              "                                                     [key], {});\n",
              "          if (!dataTable) return;\n",
              "\n",
              "          const docLinkHtml = 'Like what you see? Visit the ' +\n",
              "            '<a target=\"_blank\" href=https://colab.research.google.com/notebooks/data_table.ipynb>data table notebook</a>'\n",
              "            + ' to learn more about interactive tables.';\n",
              "          element.innerHTML = '';\n",
              "          dataTable['output_type'] = 'display_data';\n",
              "          await google.colab.output.renderOutput(dataTable, element);\n",
              "          const docLink = document.createElement('div');\n",
              "          docLink.innerHTML = docLinkHtml;\n",
              "          element.appendChild(docLink);\n",
              "        }\n",
              "      </script>\n",
              "    </div>\n",
              "  </div>\n",
              "  "
            ],
            "text/plain": [
              "       GameId          PlayId  Team  ...  Humidity  WindSpeed  WindDirection\n",
              "0  2017090700  20170907000118  away  ...      77.0        8.0             SW\n",
              "1  2017090700  20170907000118  away  ...      77.0        8.0             SW\n",
              "2  2017090700  20170907000118  away  ...      77.0        8.0             SW\n",
              "3  2017090700  20170907000118  away  ...      77.0        8.0             SW\n",
              "4  2017090700  20170907000118  away  ...      77.0        8.0             SW\n",
              "\n",
              "[5 rows x 49 columns]"
            ]
          },
          "metadata": {},
          "execution_count": 5
        }
      ]
    },
    {
      "cell_type": "code",
      "source": [
        "data_raw.shape"
      ],
      "metadata": {
        "colab": {
          "base_uri": "https://localhost:8080/"
        },
        "id": "7Y6SN245MV1J",
        "outputId": "31ebf396-870c-40c8-eb96-54044c240cc6"
      },
      "execution_count": 6,
      "outputs": [
        {
          "output_type": "execute_result",
          "data": {
            "text/plain": [
              "(509762, 49)"
            ]
          },
          "metadata": {},
          "execution_count": 6
        }
      ]
    },
    {
      "cell_type": "code",
      "source": [
        "data_raw.columns"
      ],
      "metadata": {
        "colab": {
          "base_uri": "https://localhost:8080/"
        },
        "id": "4HJl2-efMaCA",
        "outputId": "504cd60a-e62f-433d-d626-cc4134a2b922"
      },
      "execution_count": 7,
      "outputs": [
        {
          "output_type": "execute_result",
          "data": {
            "text/plain": [
              "Index(['GameId', 'PlayId', 'Team', 'X', 'Y', 'S', 'A', 'Dis', 'Orientation',\n",
              "       'Dir', 'NflId', 'DisplayName', 'JerseyNumber', 'Season', 'YardLine',\n",
              "       'Quarter', 'GameClock', 'PossessionTeam', 'Down', 'Distance',\n",
              "       'FieldPosition', 'HomeScoreBeforePlay', 'VisitorScoreBeforePlay',\n",
              "       'NflIdRusher', 'OffenseFormation', 'OffensePersonnel',\n",
              "       'DefendersInTheBox', 'DefensePersonnel', 'PlayDirection', 'TimeHandoff',\n",
              "       'TimeSnap', 'Yards', 'PlayerHeight', 'PlayerWeight', 'PlayerBirthDate',\n",
              "       'PlayerCollegeName', 'Position', 'HomeTeamAbbr', 'VisitorTeamAbbr',\n",
              "       'Week', 'Stadium', 'Location', 'StadiumType', 'Turf', 'GameWeather',\n",
              "       'Temperature', 'Humidity', 'WindSpeed', 'WindDirection'],\n",
              "      dtype='object')"
            ]
          },
          "metadata": {},
          "execution_count": 7
        }
      ]
    },
    {
      "cell_type": "code",
      "source": [
        "data_raw[\"Yards\"]"
      ],
      "metadata": {
        "colab": {
          "base_uri": "https://localhost:8080/"
        },
        "id": "esxlEpVNOC76",
        "outputId": "89805441-0081-49a1-9fa6-4a9e07a20b66"
      },
      "execution_count": 8,
      "outputs": [
        {
          "output_type": "execute_result",
          "data": {
            "text/plain": [
              "0          8\n",
              "1          8\n",
              "2          8\n",
              "3          8\n",
              "4          8\n",
              "          ..\n",
              "509757    11\n",
              "509758    11\n",
              "509759    11\n",
              "509760    11\n",
              "509761    11\n",
              "Name: Yards, Length: 509762, dtype: int64"
            ]
          },
          "metadata": {},
          "execution_count": 8
        }
      ]
    },
    {
      "cell_type": "code",
      "source": [
        "len(data_raw[data_raw[\"PlayId\"] == 20181115001638])"
      ],
      "metadata": {
        "colab": {
          "base_uri": "https://localhost:8080/"
        },
        "id": "ZWNTWzTrPBUX",
        "outputId": "a4104bf1-0489-4310-cd25-21de4b5388d1"
      },
      "execution_count": 9,
      "outputs": [
        {
          "output_type": "execute_result",
          "data": {
            "text/plain": [
              "22"
            ]
          },
          "metadata": {},
          "execution_count": 9
        }
      ]
    },
    {
      "cell_type": "code",
      "source": [
        "specific_play = data_raw[data_raw[\"PlayId\"] == 20181115001638]"
      ],
      "metadata": {
        "id": "Ty5yoOH8PMXE"
      },
      "execution_count": 10,
      "outputs": []
    },
    {
      "cell_type": "code",
      "source": [
        "\"\"\"\n",
        "1. The features YardLine, Quarter, and PossessionTeam among others tell us important information about this play.\n",
        "2. The features DisplayName, JerseyNumber, and Dir among others tell us information about each player on the field.\n",
        "\"\"\""
      ],
      "metadata": {
        "colab": {
          "base_uri": "https://localhost:8080/",
          "height": 52
        },
        "id": "dX8pG2oxPTpR",
        "outputId": "4def29d2-eb8e-4564-cde2-262928cdd7e7"
      },
      "execution_count": 11,
      "outputs": [
        {
          "output_type": "execute_result",
          "data": {
            "application/vnd.google.colaboratory.intrinsic+json": {
              "type": "string"
            },
            "text/plain": [
              "'\\n1. The features YardLine, Quarter, and PossessionTeam among others tell us important information about this play.\\n2. The features DisplayName, JerseyNumber, and Dir among others tell us information about each player on the field.\\n'"
            ]
          },
          "metadata": {},
          "execution_count": 11
        }
      ]
    },
    {
      "cell_type": "code",
      "source": [
        "three_players_box = data_raw[data_raw[\"DefendersInTheBox\"] == 3]"
      ],
      "metadata": {
        "id": "NdUDlyCOQngF"
      },
      "execution_count": 12,
      "outputs": []
    },
    {
      "cell_type": "code",
      "source": [
        "data_raw[data_raw[\"DefendersInTheBox\"] == 3].value_counts(\"PlayId\").shape[0]"
      ],
      "metadata": {
        "colab": {
          "base_uri": "https://localhost:8080/"
        },
        "id": "-S1SutpwF9SD",
        "outputId": "9f43e446-1a83-4d44-8270-d4a990c938fd"
      },
      "execution_count": 13,
      "outputs": [
        {
          "output_type": "execute_result",
          "data": {
            "text/plain": [
              "18"
            ]
          },
          "metadata": {},
          "execution_count": 13
        }
      ]
    },
    {
      "cell_type": "code",
      "source": [
        "len(three_players_box), len(three_players_box[\"PlayId\"].unique()), (len(three_players_box) / len(data_raw) * 100)"
      ],
      "metadata": {
        "colab": {
          "base_uri": "https://localhost:8080/"
        },
        "id": "23vyPpVYQuEk",
        "outputId": "92e9c896-1328-47c9-ddd6-5371f696f5fd"
      },
      "execution_count": 14,
      "outputs": [
        {
          "output_type": "execute_result",
          "data": {
            "text/plain": [
              "(396, 18, 0.07768331103534591)"
            ]
          },
          "metadata": {},
          "execution_count": 14
        }
      ]
    },
    {
      "cell_type": "code",
      "source": [
        "\"\"\"\n",
        "We know that there are 22 players per play, and 396 players showed up in our query, therefore 396 / 22 = 18 unique plays should show up.\n",
        "Approx. 0.00077% of plays have three players in the box, therefore it is quite uncommon. \n",
        "\"\"\""
      ],
      "metadata": {
        "id": "cQXBxjClRHy5",
        "colab": {
          "base_uri": "https://localhost:8080/",
          "height": 52
        },
        "outputId": "a8c2bc79-8a1d-48dd-a26a-cfda0bb695c8"
      },
      "execution_count": 15,
      "outputs": [
        {
          "output_type": "execute_result",
          "data": {
            "application/vnd.google.colaboratory.intrinsic+json": {
              "type": "string"
            },
            "text/plain": [
              "'\\nWe know that there are 22 players per play, and 396 players showed up in our query, therefore 396 / 22 = 18 unique plays should show up.\\nApprox. 0.00077% of plays have three players in the box, therefore it is quite uncommon. \\n'"
            ]
          },
          "metadata": {},
          "execution_count": 15
        }
      ]
    },
    {
      "cell_type": "code",
      "source": [
        "michael_thomas = data_raw[data_raw[\"DisplayName\"] == \"Michael Thomas\"]\n",
        "len(michael_thomas[\"GameId\"].unique()) # people with the name Michael Thomas played 50 NFL games"
      ],
      "metadata": {
        "colab": {
          "base_uri": "https://localhost:8080/"
        },
        "id": "jlYwN-T5Rrpf",
        "outputId": "df72601b-5b2a-4f93-9c5b-6923f3f0750a"
      },
      "execution_count": 16,
      "outputs": [
        {
          "output_type": "execute_result",
          "data": {
            "text/plain": [
              "50"
            ]
          },
          "metadata": {},
          "execution_count": 16
        }
      ]
    },
    {
      "cell_type": "code",
      "source": [
        "michael_thomas_players = michael_thomas[\"NflId\"].unique()\n",
        "michael_thomas_players # there are 2 michael thomas's in the dataset!"
      ],
      "metadata": {
        "colab": {
          "base_uri": "https://localhost:8080/"
        },
        "id": "_Mftbev-SMyz",
        "outputId": "d0a6470a-6075-481f-dcfc-e3237fe6f832"
      },
      "execution_count": 17,
      "outputs": [
        {
          "output_type": "execute_result",
          "data": {
            "text/plain": [
              "array([2556370, 2535687])"
            ]
          },
          "metadata": {},
          "execution_count": 17
        }
      ]
    },
    {
      "cell_type": "code",
      "source": [
        "mt1 = michael_thomas[michael_thomas[\"NflId\"] == michael_thomas_players[0]]\n",
        "mt2 = michael_thomas[michael_thomas[\"NflId\"] == michael_thomas_players[1]]\n",
        "\n",
        "len(mt1[\"GameId\"].unique()), len(mt2[\"GameId\"].unique())\n",
        "\n",
        "# since 32 + 19 = 51, it appears like both of them must have played in the same game!"
      ],
      "metadata": {
        "colab": {
          "base_uri": "https://localhost:8080/"
        },
        "id": "wmqKZ3kLSl2W",
        "outputId": "0a4b2ea7-7609-4986-f67e-133fb8204555"
      },
      "execution_count": 18,
      "outputs": [
        {
          "output_type": "execute_result",
          "data": {
            "text/plain": [
              "(32, 19)"
            ]
          },
          "metadata": {},
          "execution_count": 18
        }
      ]
    },
    {
      "cell_type": "code",
      "source": [
        "print(data_raw[data_raw[\"DisplayName\"] == \"Michael Thomas\"].groupby([\"NflId\"])[\"GameId\"].value_counts())"
      ],
      "metadata": {
        "colab": {
          "base_uri": "https://localhost:8080/"
        },
        "id": "04_41VQdJv8F",
        "outputId": "311b5ed4-1374-4c9a-f975-95ab99e1c237"
      },
      "execution_count": 19,
      "outputs": [
        {
          "output_type": "stream",
          "name": "stdout",
          "text": [
            "NflId    GameId    \n",
            "2535687  2018121608    38\n",
            "         2017102600    28\n",
            "         2017110510    23\n",
            "         2018123008    18\n",
            "         2018120908    15\n",
            "         2018120207    14\n",
            "         2018122300    14\n",
            "         2017092408    13\n",
            "         2017112604    13\n",
            "         2018112506    13\n",
            "         2018111200    11\n",
            "         2018092303     8\n",
            "         2017100100     4\n",
            "         2018111805     4\n",
            "         2018102200     3\n",
            "         2018090907     2\n",
            "         2018100701     2\n",
            "         2018102806     2\n",
            "         2018101100     1\n",
            "2556370  2018102101    29\n",
            "         2017111200    28\n",
            "         2018121700    27\n",
            "         2018102811    26\n",
            "         2017101504    25\n",
            "         2018093011    25\n",
            "         2018110409    25\n",
            "         2018120907    25\n",
            "         2018112202    24\n",
            "         2017121705    23\n",
            "         2017102203    22\n",
            "         2018111809    22\n",
            "         2017100100    21\n",
            "         2017110503    21\n",
            "         2017123110    21\n",
            "         2018092300    21\n",
            "         2018111101    21\n",
            "         2017091100    19\n",
            "         2017092402    18\n",
            "         2018091603    18\n",
            "         2018112900    18\n",
            "         2017102904    17\n",
            "         2017120307    16\n",
            "         2017122405    16\n",
            "         2018100800    14\n",
            "         2018090906    13\n",
            "         2018122313    13\n",
            "         2017111905    12\n",
            "         2018123007    12\n",
            "         2017091705    11\n",
            "         2017120700    10\n",
            "         2017112607     8\n",
            "Name: GameId, dtype: int64\n"
          ]
        }
      ]
    },
    {
      "cell_type": "code",
      "source": [
        "print(data_raw[data_raw[\"DisplayName\"] == \"Michael Thomas\"].groupby([\"NflId\", \"GameId\"])[\"PlayId\"].count())"
      ],
      "metadata": {
        "colab": {
          "base_uri": "https://localhost:8080/"
        },
        "id": "AYwqlCeMTxpy",
        "outputId": "7717c7c9-6514-46b5-eaf3-56c87e9e3af3"
      },
      "execution_count": 20,
      "outputs": [
        {
          "output_type": "stream",
          "name": "stdout",
          "text": [
            "NflId    GameId    \n",
            "2535687  2017092408    13\n",
            "         2017100100     4\n",
            "         2017102600    28\n",
            "         2017110510    23\n",
            "         2017112604    13\n",
            "         2018090907     2\n",
            "         2018092303     8\n",
            "         2018100701     2\n",
            "         2018101100     1\n",
            "         2018102200     3\n",
            "         2018102806     2\n",
            "         2018111200    11\n",
            "         2018111805     4\n",
            "         2018112506    13\n",
            "         2018120207    14\n",
            "         2018120908    15\n",
            "         2018121608    38\n",
            "         2018122300    14\n",
            "         2018123008    18\n",
            "2556370  2017091100    19\n",
            "         2017091705    11\n",
            "         2017092402    18\n",
            "         2017100100    21\n",
            "         2017101504    25\n",
            "         2017102203    22\n",
            "         2017102904    17\n",
            "         2017110503    21\n",
            "         2017111200    28\n",
            "         2017111905    12\n",
            "         2017112607     8\n",
            "         2017120307    16\n",
            "         2017120700    10\n",
            "         2017121705    23\n",
            "         2017122405    16\n",
            "         2017123110    21\n",
            "         2018090906    13\n",
            "         2018091603    18\n",
            "         2018092300    21\n",
            "         2018093011    25\n",
            "         2018100800    14\n",
            "         2018102101    29\n",
            "         2018102811    26\n",
            "         2018110409    25\n",
            "         2018111101    21\n",
            "         2018111809    22\n",
            "         2018112202    24\n",
            "         2018112900    18\n",
            "         2018120907    25\n",
            "         2018121700    27\n",
            "         2018122313    13\n",
            "         2018123007    12\n",
            "Name: PlayId, dtype: int64\n"
          ]
        }
      ]
    },
    {
      "cell_type": "code",
      "source": [
        "data_raw.columns"
      ],
      "metadata": {
        "colab": {
          "base_uri": "https://localhost:8080/"
        },
        "id": "SRMPMPJglGwj",
        "outputId": "876c7e48-4fd5-40e8-cb68-85894f998107"
      },
      "execution_count": 21,
      "outputs": [
        {
          "output_type": "execute_result",
          "data": {
            "text/plain": [
              "Index(['GameId', 'PlayId', 'Team', 'X', 'Y', 'S', 'A', 'Dis', 'Orientation',\n",
              "       'Dir', 'NflId', 'DisplayName', 'JerseyNumber', 'Season', 'YardLine',\n",
              "       'Quarter', 'GameClock', 'PossessionTeam', 'Down', 'Distance',\n",
              "       'FieldPosition', 'HomeScoreBeforePlay', 'VisitorScoreBeforePlay',\n",
              "       'NflIdRusher', 'OffenseFormation', 'OffensePersonnel',\n",
              "       'DefendersInTheBox', 'DefensePersonnel', 'PlayDirection', 'TimeHandoff',\n",
              "       'TimeSnap', 'Yards', 'PlayerHeight', 'PlayerWeight', 'PlayerBirthDate',\n",
              "       'PlayerCollegeName', 'Position', 'HomeTeamAbbr', 'VisitorTeamAbbr',\n",
              "       'Week', 'Stadium', 'Location', 'StadiumType', 'Turf', 'GameWeather',\n",
              "       'Temperature', 'Humidity', 'WindSpeed', 'WindDirection'],\n",
              "      dtype='object')"
            ]
          },
          "metadata": {},
          "execution_count": 21
        }
      ]
    },
    {
      "cell_type": "code",
      "source": [
        "data_raw.groupby([\"Stadium\", \"Season\"])[\"PlayId\"].count()"
      ],
      "metadata": {
        "colab": {
          "base_uri": "https://localhost:8080/"
        },
        "id": "3QOF34oIlBQg",
        "outputId": "deadf622-da32-42c6-ede9-4804269f05d6"
      },
      "execution_count": 22,
      "outputs": [
        {
          "output_type": "execute_result",
          "data": {
            "text/plain": [
              "Stadium                        Season\n",
              "AT&T Stadium                   2017      8448\n",
              "                               2018      7502\n",
              "Arrowhead Stadium              2017      7370\n",
              "                               2018      7964\n",
              "Bank of America Stadium        2017      7128\n",
              "                                         ... \n",
              "U.S. Bank Stadium              2017      8316\n",
              "                               2018      7854\n",
              "University of Phoenix Stadium  2017      7612\n",
              "Wembley Stadium                2017      2002\n",
              "                               2018      2574\n",
              "Name: PlayId, Length: 88, dtype: int64"
            ]
          },
          "metadata": {},
          "execution_count": 22
        }
      ]
    },
    {
      "cell_type": "code",
      "source": [
        "data_raw[\"WindDirection\"].unique()"
      ],
      "metadata": {
        "colab": {
          "base_uri": "https://localhost:8080/"
        },
        "id": "rEE1fbwhl0Aa",
        "outputId": "9a75698f-5098-426a-e094-a585070d37f5"
      },
      "execution_count": 23,
      "outputs": [
        {
          "output_type": "execute_result",
          "data": {
            "text/plain": [
              "array(['SW', 'NNE', 'SE', 'East', nan, 'NE', 'North', 'S', 'Northwest',\n",
              "       'SouthWest', 'ENE', 'ESE', 'SSW', 'NW', 'Northeast', 'From S', 'W',\n",
              "       'South', 'West-Southwest', 'E', '13', 'N', 'NNW',\n",
              "       'South Southeast', 'SSE', 'West', 'WSW', 'From SW', 'WNW', 's',\n",
              "       'NorthEast', 'from W', 'W-NW', 'South Southwest', 'Southeast',\n",
              "       'From WSW', 'West Northwest', 'Calm', 'From SSE', 'From W',\n",
              "       'East North East', 'From ESE', 'EAST', 'East Southeast',\n",
              "       'From SSW', '8', 'North East', 'Southwest', 'North/Northwest',\n",
              "       'From NNE', '1', 'N-NE', 'W-SW', 'From NNW'], dtype=object)"
            ]
          },
          "metadata": {},
          "execution_count": 23
        }
      ]
    },
    {
      "cell_type": "code",
      "source": [
        "sns.distplot(data_raw[\"Yards\"], kde=True)"
      ],
      "metadata": {
        "colab": {
          "base_uri": "https://localhost:8080/",
          "height": 360
        },
        "id": "61G35Y8smhZP",
        "outputId": "308851fc-c4ad-4721-bd45-39f4a61f7420"
      },
      "execution_count": 24,
      "outputs": [
        {
          "output_type": "stream",
          "name": "stderr",
          "text": [
            "/usr/local/lib/python3.7/dist-packages/seaborn/distributions.py:2619: FutureWarning: `distplot` is a deprecated function and will be removed in a future version. Please adapt your code to use either `displot` (a figure-level function with similar flexibility) or `histplot` (an axes-level function for histograms).\n",
            "  warnings.warn(msg, FutureWarning)\n"
          ]
        },
        {
          "output_type": "execute_result",
          "data": {
            "text/plain": [
              "<matplotlib.axes._subplots.AxesSubplot at 0x7f80512556d0>"
            ]
          },
          "metadata": {},
          "execution_count": 24
        },
        {
          "output_type": "display_data",
          "data": {
            "image/png": "[encoded data removed]",
            "text/plain": [
              "<Figure size 432x288 with 1 Axes>"
            ]
          },
          "metadata": {}
        }
      ]
    },
    {
      "cell_type": "code",
      "source": [
        "data_raw[\"Yards\"].describe()"
      ],
      "metadata": {
        "colab": {
          "base_uri": "https://localhost:8080/"
        },
        "id": "Wt36qnf_ngL5",
        "outputId": "e6f8fc07-648d-4901-94fd-19173c07ad9a"
      },
      "execution_count": 25,
      "outputs": [
        {
          "output_type": "execute_result",
          "data": {
            "text/plain": [
              "count    509762.000000\n",
              "mean          4.212334\n",
              "std           6.436167\n",
              "min         -14.000000\n",
              "25%           1.000000\n",
              "50%           3.000000\n",
              "75%           6.000000\n",
              "max          99.000000\n",
              "Name: Yards, dtype: float64"
            ]
          },
          "metadata": {},
          "execution_count": 25
        }
      ]
    },
    {
      "cell_type": "code",
      "source": [
        "\"\"\"\n",
        "The distribution looks to be skewed, as one of the tails of the graph is significantly larger than the other. Most of the values lie between\n",
        "0 and approx. 10 yards, which makes sense if you know the game of football and rushing. I could not see the max yard gain from the graph alone,\n",
        "so I used the describe function above and the max yard gain appears to be 99 yards. \n",
        "\"\"\""
      ],
      "metadata": {
        "id": "tW3yQg5Hm1nN",
        "colab": {
          "base_uri": "https://localhost:8080/",
          "height": 70
        },
        "outputId": "44d1e552-9148-40ee-b85a-f634161bc3c2"
      },
      "execution_count": 26,
      "outputs": [
        {
          "output_type": "execute_result",
          "data": {
            "application/vnd.google.colaboratory.intrinsic+json": {
              "type": "string"
            },
            "text/plain": [
              "'\\nThe distribution looks to be skewed, as one of the tails of the graph is significantly larger than the other. Most of the values lie between\\n0 and approx. 10 yards, which makes sense if you know the game of football and rushing. I could not see the max yard gain from the graph alone,\\nso I used the describe function above and the max yard gain appears to be 99 yards. \\n'"
            ]
          },
          "metadata": {},
          "execution_count": 26
        }
      ]
    },
    {
      "cell_type": "code",
      "source": [
        "sns.boxplot(x = \"Yards\", data = data_raw)"
      ],
      "metadata": {
        "colab": {
          "base_uri": "https://localhost:8080/",
          "height": 302
        },
        "id": "Ih4ij_lsnxOz",
        "outputId": "738b1d72-ae54-482d-ffa8-9cbf7a2bafd0"
      },
      "execution_count": 27,
      "outputs": [
        {
          "output_type": "execute_result",
          "data": {
            "text/plain": [
              "<matplotlib.axes._subplots.AxesSubplot at 0x7f80468cab10>"
            ]
          },
          "metadata": {},
          "execution_count": 27
        },
        {
          "output_type": "display_data",
          "data": {
            "image/png": "[encoded data removed]",
            "text/plain": [
              "<Figure size 432x288 with 1 Axes>"
            ]
          },
          "metadata": {}
        }
      ]
    },
    {
      "cell_type": "code",
      "source": [
        "\"\"\"\n",
        "In comparison to the distribution plot, the boxplot shows the volume of plays that resulted in a gain of 20+ yards, whereas in the distribution\n",
        "plot, I nearly assumed that the amount of such plays were near 0 due to the line being nearly close to the origin. When I did a basic boolean\n",
        "filter command to filter the number of plays that resulted in greater than a 50 yard gain, I got 1518 plays. \n",
        "\n",
        "Something that could be potentially misleading about a boxplot is that is the majority of the datapoints take up a minimal amount of space.\n",
        "The box in the plot represents the 25th - 75th percentile of datapoints, yet takes up far fewer space than the supposed \"outliers\" despite\n",
        "representing far more datapoints. \n",
        "\"\"\""
      ],
      "metadata": {
        "id": "xMQDw11Spoyz",
        "colab": {
          "base_uri": "https://localhost:8080/",
          "height": 121
        },
        "outputId": "d341aaef-7c1d-4d3e-cd2c-1a97a33a6e67"
      },
      "execution_count": 28,
      "outputs": [
        {
          "output_type": "execute_result",
          "data": {
            "application/vnd.google.colaboratory.intrinsic+json": {
              "type": "string"
            },
            "text/plain": [
              "'\\nIn comparison to the distribution plot, the boxplot shows the volume of plays that resulted in a gain of 20+ yards, whereas in the distribution\\nplot, I nearly assumed that the amount of such plays were near 0 due to the line being nearly close to the origin. When I did a basic boolean\\nfilter command to filter the number of plays that resulted in greater than a 50 yard gain, I got 1518 plays. \\n\\nSomething that could be potentially misleading about a boxplot is that is the majority of the datapoints take up a minimal amount of space.\\nThe box in the plot represents the 25th - 75th percentile of datapoints, yet takes up far fewer space than the supposed \"outliers\" despite\\nrepresenting far more datapoints. \\n'"
            ]
          },
          "metadata": {},
          "execution_count": 28
        }
      ]
    },
    {
      "cell_type": "code",
      "source": [
        "sns.distplot(data_raw[\"Y\"], kde=True)"
      ],
      "metadata": {
        "colab": {
          "base_uri": "https://localhost:8080/",
          "height": 357
        },
        "id": "TE4pFIjarIcn",
        "outputId": "a2a3425f-9fc8-424f-bc8f-4c3aac9d6fd3"
      },
      "execution_count": 29,
      "outputs": [
        {
          "output_type": "stream",
          "name": "stderr",
          "text": [
            "/usr/local/lib/python3.7/dist-packages/seaborn/distributions.py:2619: FutureWarning: `distplot` is a deprecated function and will be removed in a future version. Please adapt your code to use either `displot` (a figure-level function with similar flexibility) or `histplot` (an axes-level function for histograms).\n",
            "  warnings.warn(msg, FutureWarning)\n"
          ]
        },
        {
          "output_type": "execute_result",
          "data": {
            "text/plain": [
              "<matplotlib.axes._subplots.AxesSubplot at 0x7f8046403b90>"
            ]
          },
          "metadata": {},
          "execution_count": 29
        },
        {
          "output_type": "display_data",
          "data": {
            "image/png": "[encoded data removed]",
            "text/plain": [
              "<Figure size 432x288 with 1 Axes>"
            ]
          },
          "metadata": {}
        }
      ]
    },
    {
      "cell_type": "code",
      "source": [
        "sns.distplot(data_raw[\"Humidity\"], kde=True)"
      ],
      "metadata": {
        "colab": {
          "base_uri": "https://localhost:8080/",
          "height": 357
        },
        "id": "pqtWxOMtrSwq",
        "outputId": "57d0a501-a9e2-4fe5-a884-6eabe202d039"
      },
      "execution_count": 30,
      "outputs": [
        {
          "output_type": "stream",
          "name": "stderr",
          "text": [
            "/usr/local/lib/python3.7/dist-packages/seaborn/distributions.py:2619: FutureWarning: `distplot` is a deprecated function and will be removed in a future version. Please adapt your code to use either `displot` (a figure-level function with similar flexibility) or `histplot` (an axes-level function for histograms).\n",
            "  warnings.warn(msg, FutureWarning)\n"
          ]
        },
        {
          "output_type": "execute_result",
          "data": {
            "text/plain": [
              "<matplotlib.axes._subplots.AxesSubplot at 0x7f80462a7790>"
            ]
          },
          "metadata": {},
          "execution_count": 30
        },
        {
          "output_type": "display_data",
          "data": {
            "image/png": "[encoded data removed]",
            "text/plain": [
              "<Figure size 432x288 with 1 Axes>"
            ]
          },
          "metadata": {}
        }
      ]
    },
    {
      "cell_type": "code",
      "source": [
        "sns.distplot(data_raw[\"A\"], kde=True)"
      ],
      "metadata": {
        "colab": {
          "base_uri": "https://localhost:8080/",
          "height": 357
        },
        "id": "3cWCeaIarZTg",
        "outputId": "c3264b3e-a47b-4324-ea8d-113e239b4346"
      },
      "execution_count": 31,
      "outputs": [
        {
          "output_type": "stream",
          "name": "stderr",
          "text": [
            "/usr/local/lib/python3.7/dist-packages/seaborn/distributions.py:2619: FutureWarning: `distplot` is a deprecated function and will be removed in a future version. Please adapt your code to use either `displot` (a figure-level function with similar flexibility) or `histplot` (an axes-level function for histograms).\n",
            "  warnings.warn(msg, FutureWarning)\n"
          ]
        },
        {
          "output_type": "execute_result",
          "data": {
            "text/plain": [
              "<matplotlib.axes._subplots.AxesSubplot at 0x7f804620a210>"
            ]
          },
          "metadata": {},
          "execution_count": 31
        },
        {
          "output_type": "display_data",
          "data": {
            "image/png": "[encoded data removed]",
            "text/plain": [
              "<Figure size 432x288 with 1 Axes>"
            ]
          },
          "metadata": {}
        }
      ]
    }
  ]
}