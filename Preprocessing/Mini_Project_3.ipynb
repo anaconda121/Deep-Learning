{
  "nbformat": 4,
  "nbformat_minor": 0,
  "metadata": {
    "colab": {
      "name": "Mini Project 3.ipynb",
      "provenance": [],
      "collapsed_sections": [],
      "authorship_tag": "ABX9TyNR+hpIilF5d/+DgcMAJyuP",
      "include_colab_link": true
    },
    "kernelspec": {
      "name": "python3",
      "display_name": "Python 3"
    },
    "language_info": {
      "name": "python"
    }
  },
  "cells": [
    {
      "cell_type": "markdown",
      "metadata": {
        "id": "view-in-github",
        "colab_type": "text"
      },
      "source": [
        "<a href=\"https://colab.research.google.com/github/anaconda121/Deep-Learning/blob/main/Preprocessing/Mini_Project_3.ipynb\" target=\"_parent\"><img src=\"https://colab.research.google.com/assets/colab-badge.svg\" alt=\"Open In Colab\"/></a>"
      ]
    },
    {
      "cell_type": "code",
      "execution_count": 2,
      "metadata": {
        "colab": {
          "base_uri": "https://localhost:8080/"
        },
        "id": "1lOmTpJDKO5w",
        "outputId": "ebabe3e2-e6e0-4339-dbec-da3e24ca6808"
      },
      "outputs": [
        {
          "output_type": "stream",
          "name": "stdout",
          "text": [
            "Mounted at /content/drive/\n"
          ]
        }
      ],
      "source": [
        "from google.colab import drive\n",
        "drive.mount(\"/content/drive/\")"
      ]
    },
    {
      "cell_type": "code",
      "source": [
        "import numpy as np\n",
        "import matplotlib.pyplot as plt\n",
        "import matplotlib.patches as patches\n",
        "import pandas as pd\n",
        "import seaborn as sns\n",
        "import math"
      ],
      "metadata": {
        "id": "Kcnj7lHmKxOb"
      },
      "execution_count": 3,
      "outputs": []
    },
    {
      "cell_type": "code",
      "source": [
        "sns.set()"
      ],
      "metadata": {
        "id": "iEXjyj76Lo85"
      },
      "execution_count": 4,
      "outputs": []
    },
    {
      "cell_type": "code",
      "source": [
        "data_raw = pd.read_csv(r\"/content/drive/MyDrive/Colab Notebooks/NFLRush.csv\")"
      ],
      "metadata": {
        "colab": {
          "base_uri": "https://localhost:8080/"
        },
        "id": "vHrAig1FKrLn",
        "outputId": "f17ac6c7-6bc6-4426-898e-2c72b819a3d8"
      },
      "execution_count": 5,
      "outputs": [
        {
          "output_type": "stream",
          "name": "stderr",
          "text": [
            "/usr/local/lib/python3.7/dist-packages/IPython/core/interactiveshell.py:2882: DtypeWarning: Columns (47) have mixed types.Specify dtype option on import or set low_memory=False.\n",
            "  exec(code_obj, self.user_global_ns, self.user_ns)\n"
          ]
        }
      ]
    },
    {
      "cell_type": "code",
      "source": [
        "data_raw.head()"
      ],
      "metadata": {
        "colab": {
          "base_uri": "https://localhost:8080/",
          "height": 357
        },
        "id": "JwCgTRz7KgK_",
        "outputId": "0b11879d-1657-47d6-b632-87f6d18ac388"
      },
      "execution_count": 6,
      "outputs": [
        {
          "output_type": "execute_result",
          "data": {
            "text/html": [
              "\n",
              "  <div id=\"df-f73d2086-deeb-4819-9a0c-8dfec7905ca4\">\n",
              "    <div class=\"colab-df-container\">\n",
              "      <div>\n",
              "<style scoped>\n",
              "    .dataframe tbody tr th:only-of-type {\n",
              "        vertical-align: middle;\n",
              "    }\n",
              "\n",
              "    .dataframe tbody tr th {\n",
              "        vertical-align: top;\n",
              "    }\n",
              "\n",
              "    .dataframe thead th {\n",
              "        text-align: right;\n",
              "    }\n",
              "</style>\n",
              "<table border=\"1\" class=\"dataframe\">\n",
              "  <thead>\n",
              "    <tr style=\"text-align: right;\">\n",
              "      <th></th>\n",
              "      <th>GameId</th>\n",
              "      <th>PlayId</th>\n",
              "      <th>Team</th>\n",
              "      <th>X</th>\n",
              "      <th>Y</th>\n",
              "      <th>S</th>\n",
              "      <th>A</th>\n",
              "      <th>Dis</th>\n",
              "      <th>Orientation</th>\n",
              "      <th>Dir</th>\n",
              "      <th>NflId</th>\n",
              "      <th>DisplayName</th>\n",
              "      <th>JerseyNumber</th>\n",
              "      <th>Season</th>\n",
              "      <th>YardLine</th>\n",
              "      <th>Quarter</th>\n",
              "      <th>GameClock</th>\n",
              "      <th>PossessionTeam</th>\n",
              "      <th>Down</th>\n",
              "      <th>Distance</th>\n",
              "      <th>FieldPosition</th>\n",
              "      <th>HomeScoreBeforePlay</th>\n",
              "      <th>VisitorScoreBeforePlay</th>\n",
              "      <th>NflIdRusher</th>\n",
              "      <th>OffenseFormation</th>\n",
              "      <th>OffensePersonnel</th>\n",
              "      <th>DefendersInTheBox</th>\n",
              "      <th>DefensePersonnel</th>\n",
              "      <th>PlayDirection</th>\n",
              "      <th>TimeHandoff</th>\n",
              "      <th>TimeSnap</th>\n",
              "      <th>Yards</th>\n",
              "      <th>PlayerHeight</th>\n",
              "      <th>PlayerWeight</th>\n",
              "      <th>PlayerBirthDate</th>\n",
              "      <th>PlayerCollegeName</th>\n",
              "      <th>Position</th>\n",
              "      <th>HomeTeamAbbr</th>\n",
              "      <th>VisitorTeamAbbr</th>\n",
              "      <th>Week</th>\n",
              "      <th>Stadium</th>\n",
              "      <th>Location</th>\n",
              "      <th>StadiumType</th>\n",
              "      <th>Turf</th>\n",
              "      <th>GameWeather</th>\n",
              "      <th>Temperature</th>\n",
              "      <th>Humidity</th>\n",
              "      <th>WindSpeed</th>\n",
              "      <th>WindDirection</th>\n",
              "    </tr>\n",
              "  </thead>\n",
              "  <tbody>\n",
              "    <tr>\n",
              "      <th>0</th>\n",
              "      <td>2017090700</td>\n",
              "      <td>20170907000118</td>\n",
              "      <td>away</td>\n",
              "      <td>73.91</td>\n",
              "      <td>34.84</td>\n",
              "      <td>1.69</td>\n",
              "      <td>1.13</td>\n",
              "      <td>0.40</td>\n",
              "      <td>81.99</td>\n",
              "      <td>177.18</td>\n",
              "      <td>496723</td>\n",
              "      <td>Eric Berry</td>\n",
              "      <td>29</td>\n",
              "      <td>2017</td>\n",
              "      <td>35</td>\n",
              "      <td>1</td>\n",
              "      <td>14:14:00</td>\n",
              "      <td>NE</td>\n",
              "      <td>3</td>\n",
              "      <td>2</td>\n",
              "      <td>NE</td>\n",
              "      <td>0</td>\n",
              "      <td>0</td>\n",
              "      <td>2543773</td>\n",
              "      <td>SHOTGUN</td>\n",
              "      <td>1 RB, 1 TE, 3 WR</td>\n",
              "      <td>6.0</td>\n",
              "      <td>2 DL, 3 LB, 6 DB</td>\n",
              "      <td>left</td>\n",
              "      <td>2017-09-08T00:44:06.000Z</td>\n",
              "      <td>2017-09-08T00:44:05.000Z</td>\n",
              "      <td>8</td>\n",
              "      <td>6-0</td>\n",
              "      <td>212</td>\n",
              "      <td>12/29/1988</td>\n",
              "      <td>Tennessee</td>\n",
              "      <td>SS</td>\n",
              "      <td>NE</td>\n",
              "      <td>KC</td>\n",
              "      <td>1</td>\n",
              "      <td>Gillette Stadium</td>\n",
              "      <td>Foxborough, MA</td>\n",
              "      <td>Outdoor</td>\n",
              "      <td>Field Turf</td>\n",
              "      <td>Clear and warm</td>\n",
              "      <td>63.0</td>\n",
              "      <td>77.0</td>\n",
              "      <td>8.0</td>\n",
              "      <td>SW</td>\n",
              "    </tr>\n",
              "    <tr>\n",
              "      <th>1</th>\n",
              "      <td>2017090700</td>\n",
              "      <td>20170907000118</td>\n",
              "      <td>away</td>\n",
              "      <td>74.67</td>\n",
              "      <td>32.64</td>\n",
              "      <td>0.42</td>\n",
              "      <td>1.35</td>\n",
              "      <td>0.01</td>\n",
              "      <td>27.61</td>\n",
              "      <td>198.70</td>\n",
              "      <td>2495116</td>\n",
              "      <td>Allen Bailey</td>\n",
              "      <td>97</td>\n",
              "      <td>2017</td>\n",
              "      <td>35</td>\n",
              "      <td>1</td>\n",
              "      <td>14:14:00</td>\n",
              "      <td>NE</td>\n",
              "      <td>3</td>\n",
              "      <td>2</td>\n",
              "      <td>NE</td>\n",
              "      <td>0</td>\n",
              "      <td>0</td>\n",
              "      <td>2543773</td>\n",
              "      <td>SHOTGUN</td>\n",
              "      <td>1 RB, 1 TE, 3 WR</td>\n",
              "      <td>6.0</td>\n",
              "      <td>2 DL, 3 LB, 6 DB</td>\n",
              "      <td>left</td>\n",
              "      <td>2017-09-08T00:44:06.000Z</td>\n",
              "      <td>2017-09-08T00:44:05.000Z</td>\n",
              "      <td>8</td>\n",
              "      <td>6-3</td>\n",
              "      <td>288</td>\n",
              "      <td>03/25/1989</td>\n",
              "      <td>Miami</td>\n",
              "      <td>DE</td>\n",
              "      <td>NE</td>\n",
              "      <td>KC</td>\n",
              "      <td>1</td>\n",
              "      <td>Gillette Stadium</td>\n",
              "      <td>Foxborough, MA</td>\n",
              "      <td>Outdoor</td>\n",
              "      <td>Field Turf</td>\n",
              "      <td>Clear and warm</td>\n",
              "      <td>63.0</td>\n",
              "      <td>77.0</td>\n",
              "      <td>8.0</td>\n",
              "      <td>SW</td>\n",
              "    </tr>\n",
              "    <tr>\n",
              "      <th>2</th>\n",
              "      <td>2017090700</td>\n",
              "      <td>20170907000118</td>\n",
              "      <td>away</td>\n",
              "      <td>74.00</td>\n",
              "      <td>33.20</td>\n",
              "      <td>1.22</td>\n",
              "      <td>0.59</td>\n",
              "      <td>0.31</td>\n",
              "      <td>3.01</td>\n",
              "      <td>202.73</td>\n",
              "      <td>2495493</td>\n",
              "      <td>Justin Houston</td>\n",
              "      <td>50</td>\n",
              "      <td>2017</td>\n",
              "      <td>35</td>\n",
              "      <td>1</td>\n",
              "      <td>14:14:00</td>\n",
              "      <td>NE</td>\n",
              "      <td>3</td>\n",
              "      <td>2</td>\n",
              "      <td>NE</td>\n",
              "      <td>0</td>\n",
              "      <td>0</td>\n",
              "      <td>2543773</td>\n",
              "      <td>SHOTGUN</td>\n",
              "      <td>1 RB, 1 TE, 3 WR</td>\n",
              "      <td>6.0</td>\n",
              "      <td>2 DL, 3 LB, 6 DB</td>\n",
              "      <td>left</td>\n",
              "      <td>2017-09-08T00:44:06.000Z</td>\n",
              "      <td>2017-09-08T00:44:05.000Z</td>\n",
              "      <td>8</td>\n",
              "      <td>6-3</td>\n",
              "      <td>270</td>\n",
              "      <td>01/21/1989</td>\n",
              "      <td>Georgia</td>\n",
              "      <td>DE</td>\n",
              "      <td>NE</td>\n",
              "      <td>KC</td>\n",
              "      <td>1</td>\n",
              "      <td>Gillette Stadium</td>\n",
              "      <td>Foxborough, MA</td>\n",
              "      <td>Outdoor</td>\n",
              "      <td>Field Turf</td>\n",
              "      <td>Clear and warm</td>\n",
              "      <td>63.0</td>\n",
              "      <td>77.0</td>\n",
              "      <td>8.0</td>\n",
              "      <td>SW</td>\n",
              "    </tr>\n",
              "    <tr>\n",
              "      <th>3</th>\n",
              "      <td>2017090700</td>\n",
              "      <td>20170907000118</td>\n",
              "      <td>away</td>\n",
              "      <td>71.46</td>\n",
              "      <td>27.70</td>\n",
              "      <td>0.42</td>\n",
              "      <td>0.54</td>\n",
              "      <td>0.02</td>\n",
              "      <td>359.77</td>\n",
              "      <td>105.64</td>\n",
              "      <td>2506353</td>\n",
              "      <td>Derrick Johnson</td>\n",
              "      <td>56</td>\n",
              "      <td>2017</td>\n",
              "      <td>35</td>\n",
              "      <td>1</td>\n",
              "      <td>14:14:00</td>\n",
              "      <td>NE</td>\n",
              "      <td>3</td>\n",
              "      <td>2</td>\n",
              "      <td>NE</td>\n",
              "      <td>0</td>\n",
              "      <td>0</td>\n",
              "      <td>2543773</td>\n",
              "      <td>SHOTGUN</td>\n",
              "      <td>1 RB, 1 TE, 3 WR</td>\n",
              "      <td>6.0</td>\n",
              "      <td>2 DL, 3 LB, 6 DB</td>\n",
              "      <td>left</td>\n",
              "      <td>2017-09-08T00:44:06.000Z</td>\n",
              "      <td>2017-09-08T00:44:05.000Z</td>\n",
              "      <td>8</td>\n",
              "      <td>6-3</td>\n",
              "      <td>245</td>\n",
              "      <td>11/22/1982</td>\n",
              "      <td>Texas</td>\n",
              "      <td>ILB</td>\n",
              "      <td>NE</td>\n",
              "      <td>KC</td>\n",
              "      <td>1</td>\n",
              "      <td>Gillette Stadium</td>\n",
              "      <td>Foxborough, MA</td>\n",
              "      <td>Outdoor</td>\n",
              "      <td>Field Turf</td>\n",
              "      <td>Clear and warm</td>\n",
              "      <td>63.0</td>\n",
              "      <td>77.0</td>\n",
              "      <td>8.0</td>\n",
              "      <td>SW</td>\n",
              "    </tr>\n",
              "    <tr>\n",
              "      <th>4</th>\n",
              "      <td>2017090700</td>\n",
              "      <td>20170907000118</td>\n",
              "      <td>away</td>\n",
              "      <td>69.32</td>\n",
              "      <td>35.42</td>\n",
              "      <td>1.82</td>\n",
              "      <td>2.43</td>\n",
              "      <td>0.16</td>\n",
              "      <td>12.63</td>\n",
              "      <td>164.31</td>\n",
              "      <td>2530794</td>\n",
              "      <td>Ron Parker</td>\n",
              "      <td>38</td>\n",
              "      <td>2017</td>\n",
              "      <td>35</td>\n",
              "      <td>1</td>\n",
              "      <td>14:14:00</td>\n",
              "      <td>NE</td>\n",
              "      <td>3</td>\n",
              "      <td>2</td>\n",
              "      <td>NE</td>\n",
              "      <td>0</td>\n",
              "      <td>0</td>\n",
              "      <td>2543773</td>\n",
              "      <td>SHOTGUN</td>\n",
              "      <td>1 RB, 1 TE, 3 WR</td>\n",
              "      <td>6.0</td>\n",
              "      <td>2 DL, 3 LB, 6 DB</td>\n",
              "      <td>left</td>\n",
              "      <td>2017-09-08T00:44:06.000Z</td>\n",
              "      <td>2017-09-08T00:44:05.000Z</td>\n",
              "      <td>8</td>\n",
              "      <td>6-0</td>\n",
              "      <td>206</td>\n",
              "      <td>08/17/1987</td>\n",
              "      <td>Newberry</td>\n",
              "      <td>FS</td>\n",
              "      <td>NE</td>\n",
              "      <td>KC</td>\n",
              "      <td>1</td>\n",
              "      <td>Gillette Stadium</td>\n",
              "      <td>Foxborough, MA</td>\n",
              "      <td>Outdoor</td>\n",
              "      <td>Field Turf</td>\n",
              "      <td>Clear and warm</td>\n",
              "      <td>63.0</td>\n",
              "      <td>77.0</td>\n",
              "      <td>8.0</td>\n",
              "      <td>SW</td>\n",
              "    </tr>\n",
              "  </tbody>\n",
              "</table>\n",
              "</div>\n",
              "      <button class=\"colab-df-convert\" onclick=\"convertToInteractive('df-f73d2086-deeb-4819-9a0c-8dfec7905ca4')\"\n",
              "              title=\"Convert this dataframe to an interactive table.\"\n",
              "              style=\"display:none;\">\n",
              "        \n",
              "  <svg xmlns=\"http://www.w3.org/2000/svg\" height=\"24px\"viewBox=\"0 0 24 24\"\n",
              "       width=\"24px\">\n",
              "    <path d=\"M0 0h24v24H0V0z\" fill=\"none\"/>\n",
              "    <path d=\"M18.56 5.44l.94 2.06.94-2.06 2.06-.94-2.06-.94-.94-2.06-.94 2.06-2.06.94zm-11 1L8.5 8.5l.94-2.06 2.06-.94-2.06-.94L8.5 2.5l-.94 2.06-2.06.94zm10 10l.94 2.06.94-2.06 2.06-.94-2.06-.94-.94-2.06-.94 2.06-2.06.94z\"/><path d=\"M17.41 7.96l-1.37-1.37c-.4-.4-.92-.59-1.43-.59-.52 0-1.04.2-1.43.59L10.3 9.45l-7.72 7.72c-.78.78-.78 2.05 0 2.83L4 21.41c.39.39.9.59 1.41.59.51 0 1.02-.2 1.41-.59l7.78-7.78 2.81-2.81c.8-.78.8-2.07 0-2.86zM5.41 20L4 18.59l7.72-7.72 1.47 1.35L5.41 20z\"/>\n",
              "  </svg>\n",
              "      </button>\n",
              "      \n",
              "  <style>\n",
              "    .colab-df-container {\n",
              "      display:flex;\n",
              "      flex-wrap:wrap;\n",
              "      gap: 12px;\n",
              "    }\n",
              "\n",
              "    .colab-df-convert {\n",
              "      background-color: #E8F0FE;\n",
              "      border: none;\n",
              "      border-radius: 50%;\n",
              "      cursor: pointer;\n",
              "      display: none;\n",
              "      fill: #1967D2;\n",
              "      height: 32px;\n",
              "      padding: 0 0 0 0;\n",
              "      width: 32px;\n",
              "    }\n",
              "\n",
              "    .colab-df-convert:hover {\n",
              "      background-color: #E2EBFA;\n",
              "      box-shadow: 0px 1px 2px rgba(60, 64, 67, 0.3), 0px 1px 3px 1px rgba(60, 64, 67, 0.15);\n",
              "      fill: #174EA6;\n",
              "    }\n",
              "\n",
              "    [theme=dark] .colab-df-convert {\n",
              "      background-color: #3B4455;\n",
              "      fill: #D2E3FC;\n",
              "    }\n",
              "\n",
              "    [theme=dark] .colab-df-convert:hover {\n",
              "      background-color: #434B5C;\n",
              "      box-shadow: 0px 1px 3px 1px rgba(0, 0, 0, 0.15);\n",
              "      filter: drop-shadow(0px 1px 2px rgba(0, 0, 0, 0.3));\n",
              "      fill: #FFFFFF;\n",
              "    }\n",
              "  </style>\n",
              "\n",
              "      <script>\n",
              "        const buttonEl =\n",
              "          document.querySelector('#df-f73d2086-deeb-4819-9a0c-8dfec7905ca4 button.colab-df-convert');\n",
              "        buttonEl.style.display =\n",
              "          google.colab.kernel.accessAllowed ? 'block' : 'none';\n",
              "\n",
              "        async function convertToInteractive(key) {\n",
              "          const element = document.querySelector('#df-f73d2086-deeb-4819-9a0c-8dfec7905ca4');\n",
              "          const dataTable =\n",
              "            await google.colab.kernel.invokeFunction('convertToInteractive',\n",
              "                                                     [key], {});\n",
              "          if (!dataTable) return;\n",
              "\n",
              "          const docLinkHtml = 'Like what you see? Visit the ' +\n",
              "            '<a target=\"_blank\" href=https://colab.research.google.com/notebooks/data_table.ipynb>data table notebook</a>'\n",
              "            + ' to learn more about interactive tables.';\n",
              "          element.innerHTML = '';\n",
              "          dataTable['output_type'] = 'display_data';\n",
              "          await google.colab.output.renderOutput(dataTable, element);\n",
              "          const docLink = document.createElement('div');\n",
              "          docLink.innerHTML = docLinkHtml;\n",
              "          element.appendChild(docLink);\n",
              "        }\n",
              "      </script>\n",
              "    </div>\n",
              "  </div>\n",
              "  "
            ],
            "text/plain": [
              "       GameId          PlayId  Team  ...  Humidity  WindSpeed  WindDirection\n",
              "0  2017090700  20170907000118  away  ...      77.0        8.0             SW\n",
              "1  2017090700  20170907000118  away  ...      77.0        8.0             SW\n",
              "2  2017090700  20170907000118  away  ...      77.0        8.0             SW\n",
              "3  2017090700  20170907000118  away  ...      77.0        8.0             SW\n",
              "4  2017090700  20170907000118  away  ...      77.0        8.0             SW\n",
              "\n",
              "[5 rows x 49 columns]"
            ]
          },
          "metadata": {},
          "execution_count": 6
        }
      ]
    },
    {
      "cell_type": "code",
      "source": [
        "data_raw.shape"
      ],
      "metadata": {
        "colab": {
          "base_uri": "https://localhost:8080/"
        },
        "id": "7Y6SN245MV1J",
        "outputId": "6be17faf-1f9c-4e9a-a9c7-58b32579bea7"
      },
      "execution_count": 7,
      "outputs": [
        {
          "output_type": "execute_result",
          "data": {
            "text/plain": [
              "(509762, 49)"
            ]
          },
          "metadata": {},
          "execution_count": 7
        }
      ]
    },
    {
      "cell_type": "code",
      "source": [
        "data_raw.columns"
      ],
      "metadata": {
        "colab": {
          "base_uri": "https://localhost:8080/"
        },
        "id": "4HJl2-efMaCA",
        "outputId": "7ca7934d-dc39-4fc4-a28f-7681903b4dba"
      },
      "execution_count": 8,
      "outputs": [
        {
          "output_type": "execute_result",
          "data": {
            "text/plain": [
              "Index(['GameId', 'PlayId', 'Team', 'X', 'Y', 'S', 'A', 'Dis', 'Orientation',\n",
              "       'Dir', 'NflId', 'DisplayName', 'JerseyNumber', 'Season', 'YardLine',\n",
              "       'Quarter', 'GameClock', 'PossessionTeam', 'Down', 'Distance',\n",
              "       'FieldPosition', 'HomeScoreBeforePlay', 'VisitorScoreBeforePlay',\n",
              "       'NflIdRusher', 'OffenseFormation', 'OffensePersonnel',\n",
              "       'DefendersInTheBox', 'DefensePersonnel', 'PlayDirection', 'TimeHandoff',\n",
              "       'TimeSnap', 'Yards', 'PlayerHeight', 'PlayerWeight', 'PlayerBirthDate',\n",
              "       'PlayerCollegeName', 'Position', 'HomeTeamAbbr', 'VisitorTeamAbbr',\n",
              "       'Week', 'Stadium', 'Location', 'StadiumType', 'Turf', 'GameWeather',\n",
              "       'Temperature', 'Humidity', 'WindSpeed', 'WindDirection'],\n",
              "      dtype='object')"
            ]
          },
          "metadata": {},
          "execution_count": 8
        }
      ]
    },
    {
      "cell_type": "code",
      "source": [
        "data_raw[\"Yards\"]"
      ],
      "metadata": {
        "colab": {
          "base_uri": "https://localhost:8080/"
        },
        "id": "esxlEpVNOC76",
        "outputId": "a1d1dbf0-602a-4619-d47a-e6c37fff3cda"
      },
      "execution_count": 9,
      "outputs": [
        {
          "output_type": "execute_result",
          "data": {
            "text/plain": [
              "0          8\n",
              "1          8\n",
              "2          8\n",
              "3          8\n",
              "4          8\n",
              "          ..\n",
              "509757    11\n",
              "509758    11\n",
              "509759    11\n",
              "509760    11\n",
              "509761    11\n",
              "Name: Yards, Length: 509762, dtype: int64"
            ]
          },
          "metadata": {},
          "execution_count": 9
        }
      ]
    },
    {
      "cell_type": "code",
      "source": [
        "len(data_raw[data_raw[\"PlayId\"] == 20181115001638])"
      ],
      "metadata": {
        "colab": {
          "base_uri": "https://localhost:8080/"
        },
        "id": "ZWNTWzTrPBUX",
        "outputId": "30c79732-4862-4e31-df9c-e78c6611b69d"
      },
      "execution_count": 10,
      "outputs": [
        {
          "output_type": "execute_result",
          "data": {
            "text/plain": [
              "22"
            ]
          },
          "metadata": {},
          "execution_count": 10
        }
      ]
    },
    {
      "cell_type": "code",
      "source": [
        "specific_play = data_raw[data_raw[\"PlayId\"] == 20181115001638]"
      ],
      "metadata": {
        "id": "Ty5yoOH8PMXE"
      },
      "execution_count": 11,
      "outputs": []
    },
    {
      "cell_type": "code",
      "source": [
        "\"\"\"\n",
        "1. The features YardLine, Quarter, and PossessionTeam among others tell us important information about this play.\n",
        "2. The features DisplayName, JerseyNumber, and Dir among others tell us information about each player on the field.\n",
        "\"\"\""
      ],
      "metadata": {
        "colab": {
          "base_uri": "https://localhost:8080/",
          "height": 52
        },
        "id": "dX8pG2oxPTpR",
        "outputId": "ecda941a-20eb-408c-f4f5-3ad0185eb532"
      },
      "execution_count": 12,
      "outputs": [
        {
          "output_type": "execute_result",
          "data": {
            "application/vnd.google.colaboratory.intrinsic+json": {
              "type": "string"
            },
            "text/plain": [
              "'\\n1. The features YardLine, Quarter, and PossessionTeam among others tell us important information about this play.\\n2. The features DisplayName, JerseyNumber, and Dir among others tell us information about each player on the field.\\n'"
            ]
          },
          "metadata": {},
          "execution_count": 12
        }
      ]
    },
    {
      "cell_type": "code",
      "source": [
        "three_players_box = data_raw[data_raw[\"DefendersInTheBox\"] == 3]"
      ],
      "metadata": {
        "id": "NdUDlyCOQngF"
      },
      "execution_count": 13,
      "outputs": []
    },
    {
      "cell_type": "code",
      "source": [
        "len(three_players_box), len(three_players_box[\"PlayId\"].unique()), len(three_players_box) / len(data_raw)"
      ],
      "metadata": {
        "colab": {
          "base_uri": "https://localhost:8080/"
        },
        "id": "23vyPpVYQuEk",
        "outputId": "5f145c86-f292-4fd2-89e5-1c1252b44bce"
      },
      "execution_count": 14,
      "outputs": [
        {
          "output_type": "execute_result",
          "data": {
            "text/plain": [
              "(396, 18, 0.0007768331103534591)"
            ]
          },
          "metadata": {},
          "execution_count": 14
        }
      ]
    },
    {
      "cell_type": "code",
      "source": [
        "\"\"\"\n",
        "We know that there are 22 players per play, and 396 players showed up in our query, therefore 396 / 22 = 18 unique plays should show up.\n",
        "Approx. 0.00077% of plays have three players in the box, therefore it is quite uncommon. \n",
        "\"\"\""
      ],
      "metadata": {
        "colab": {
          "base_uri": "https://localhost:8080/",
          "height": 52
        },
        "id": "cQXBxjClRHy5",
        "outputId": "a8816470-3417-4c23-8cd9-edb3b13d88b0"
      },
      "execution_count": 15,
      "outputs": [
        {
          "output_type": "execute_result",
          "data": {
            "application/vnd.google.colaboratory.intrinsic+json": {
              "type": "string"
            },
            "text/plain": [
              "'\\nWe know that there are 22 players per play, and 396 players showed up in our query, therefore 396 / 22 = 18 unique plays should show up.\\nApprox. 0.00077% of plays have three players in the box, therefore it is quite uncommon. \\n'"
            ]
          },
          "metadata": {},
          "execution_count": 15
        }
      ]
    },
    {
      "cell_type": "code",
      "source": [
        "michael_thomas = data_raw[data_raw[\"DisplayName\"] == \"Michael Thomas\"]\n",
        "len(michael_thomas[\"GameId\"].unique()) # people with the name Michael Thomas played 50 NFL games"
      ],
      "metadata": {
        "colab": {
          "base_uri": "https://localhost:8080/"
        },
        "id": "jlYwN-T5Rrpf",
        "outputId": "441d3ae9-0576-4314-a67e-c46730ad61bd"
      },
      "execution_count": 16,
      "outputs": [
        {
          "output_type": "execute_result",
          "data": {
            "text/plain": [
              "50"
            ]
          },
          "metadata": {},
          "execution_count": 16
        }
      ]
    },
    {
      "cell_type": "code",
      "source": [
        "michael_thomas_players = michael_thomas[\"NflId\"].unique()\n",
        "michael_thomas_players # there are 2 michael thomas's in the dataset!"
      ],
      "metadata": {
        "colab": {
          "base_uri": "https://localhost:8080/"
        },
        "id": "_Mftbev-SMyz",
        "outputId": "59fc5fdd-ae19-4388-e766-755eb1124b0e"
      },
      "execution_count": 17,
      "outputs": [
        {
          "output_type": "execute_result",
          "data": {
            "text/plain": [
              "array([2556370, 2535687])"
            ]
          },
          "metadata": {},
          "execution_count": 17
        }
      ]
    },
    {
      "cell_type": "code",
      "source": [
        "mt1 = michael_thomas[michael_thomas[\"NflId\"] == michael_thomas_players[0]]\n",
        "mt2 = michael_thomas[michael_thomas[\"NflId\"] == michael_thomas_players[1]]\n",
        "\n",
        "len(mt1[\"GameId\"].unique()), len(mt2[\"GameId\"].unique())\n",
        "\n",
        "# since 32 + 19 = 51, it appears like both of them must have played in the same game!"
      ],
      "metadata": {
        "colab": {
          "base_uri": "https://localhost:8080/"
        },
        "id": "wmqKZ3kLSl2W",
        "outputId": "33f08077-aa20-4cbf-feb0-660b8e5a0dd0"
      },
      "execution_count": 18,
      "outputs": [
        {
          "output_type": "execute_result",
          "data": {
            "text/plain": [
              "(32, 19)"
            ]
          },
          "metadata": {},
          "execution_count": 18
        }
      ]
    },
    {
      "cell_type": "code",
      "source": [
        "mt2 = michael_thomas[michael_thomas[\"NflId\"] == michael_thomas_players[1]]\n",
        "len(mt2[\"GameId\"].unique())"
      ],
      "metadata": {
        "colab": {
          "base_uri": "https://localhost:8080/"
        },
        "id": "8e_eypX-SxVF",
        "outputId": "82003eaa-215f-4c86-d91e-143abcdefdc2"
      },
      "execution_count": 19,
      "outputs": [
        {
          "output_type": "execute_result",
          "data": {
            "text/plain": [
              "19"
            ]
          },
          "metadata": {},
          "execution_count": 19
        }
      ]
    },
    {
      "cell_type": "code",
      "source": [
        "arrays = [['Falcon', 'Falcon', 'Parrot', 'Parrot'],\n",
        "          ['Captive', 'Wild', 'Captive', 'Wild'],\n",
        "          ['Bob', 'Joe', 'Riya', 'Emily']]\n",
        "\n",
        "index = pd.MultiIndex.from_arrays(arrays, names=('Animal', 'Type', 'Name'))\n",
        "\n",
        "df = pd.DataFrame({'Max Speed': [390., 350., 30., 20.]},\n",
        "        index=index)\n",
        "\n",
        "df"
      ],
      "metadata": {
        "colab": {
          "base_uri": "https://localhost:8080/",
          "height": 206
        },
        "id": "7UOIG6AOTsQC",
        "outputId": "4989cfe0-24d6-43a3-f6bd-8725ca61cb7c"
      },
      "execution_count": 20,
      "outputs": [
        {
          "output_type": "execute_result",
          "data": {
            "text/html": [
              "\n",
              "  <div id=\"df-8df46a15-e6a6-422f-b446-979a05e34745\">\n",
              "    <div class=\"colab-df-container\">\n",
              "      <div>\n",
              "<style scoped>\n",
              "    .dataframe tbody tr th:only-of-type {\n",
              "        vertical-align: middle;\n",
              "    }\n",
              "\n",
              "    .dataframe tbody tr th {\n",
              "        vertical-align: top;\n",
              "    }\n",
              "\n",
              "    .dataframe thead th {\n",
              "        text-align: right;\n",
              "    }\n",
              "</style>\n",
              "<table border=\"1\" class=\"dataframe\">\n",
              "  <thead>\n",
              "    <tr style=\"text-align: right;\">\n",
              "      <th></th>\n",
              "      <th></th>\n",
              "      <th></th>\n",
              "      <th>Max Speed</th>\n",
              "    </tr>\n",
              "    <tr>\n",
              "      <th>Animal</th>\n",
              "      <th>Type</th>\n",
              "      <th>Name</th>\n",
              "      <th></th>\n",
              "    </tr>\n",
              "  </thead>\n",
              "  <tbody>\n",
              "    <tr>\n",
              "      <th rowspan=\"2\" valign=\"top\">Falcon</th>\n",
              "      <th>Captive</th>\n",
              "      <th>Bob</th>\n",
              "      <td>390.0</td>\n",
              "    </tr>\n",
              "    <tr>\n",
              "      <th>Wild</th>\n",
              "      <th>Joe</th>\n",
              "      <td>350.0</td>\n",
              "    </tr>\n",
              "    <tr>\n",
              "      <th rowspan=\"2\" valign=\"top\">Parrot</th>\n",
              "      <th>Captive</th>\n",
              "      <th>Riya</th>\n",
              "      <td>30.0</td>\n",
              "    </tr>\n",
              "    <tr>\n",
              "      <th>Wild</th>\n",
              "      <th>Emily</th>\n",
              "      <td>20.0</td>\n",
              "    </tr>\n",
              "  </tbody>\n",
              "</table>\n",
              "</div>\n",
              "      <button class=\"colab-df-convert\" onclick=\"convertToInteractive('df-8df46a15-e6a6-422f-b446-979a05e34745')\"\n",
              "              title=\"Convert this dataframe to an interactive table.\"\n",
              "              style=\"display:none;\">\n",
              "        \n",
              "  <svg xmlns=\"http://www.w3.org/2000/svg\" height=\"24px\"viewBox=\"0 0 24 24\"\n",
              "       width=\"24px\">\n",
              "    <path d=\"M0 0h24v24H0V0z\" fill=\"none\"/>\n",
              "    <path d=\"M18.56 5.44l.94 2.06.94-2.06 2.06-.94-2.06-.94-.94-2.06-.94 2.06-2.06.94zm-11 1L8.5 8.5l.94-2.06 2.06-.94-2.06-.94L8.5 2.5l-.94 2.06-2.06.94zm10 10l.94 2.06.94-2.06 2.06-.94-2.06-.94-.94-2.06-.94 2.06-2.06.94z\"/><path d=\"M17.41 7.96l-1.37-1.37c-.4-.4-.92-.59-1.43-.59-.52 0-1.04.2-1.43.59L10.3 9.45l-7.72 7.72c-.78.78-.78 2.05 0 2.83L4 21.41c.39.39.9.59 1.41.59.51 0 1.02-.2 1.41-.59l7.78-7.78 2.81-2.81c.8-.78.8-2.07 0-2.86zM5.41 20L4 18.59l7.72-7.72 1.47 1.35L5.41 20z\"/>\n",
              "  </svg>\n",
              "      </button>\n",
              "      \n",
              "  <style>\n",
              "    .colab-df-container {\n",
              "      display:flex;\n",
              "      flex-wrap:wrap;\n",
              "      gap: 12px;\n",
              "    }\n",
              "\n",
              "    .colab-df-convert {\n",
              "      background-color: #E8F0FE;\n",
              "      border: none;\n",
              "      border-radius: 50%;\n",
              "      cursor: pointer;\n",
              "      display: none;\n",
              "      fill: #1967D2;\n",
              "      height: 32px;\n",
              "      padding: 0 0 0 0;\n",
              "      width: 32px;\n",
              "    }\n",
              "\n",
              "    .colab-df-convert:hover {\n",
              "      background-color: #E2EBFA;\n",
              "      box-shadow: 0px 1px 2px rgba(60, 64, 67, 0.3), 0px 1px 3px 1px rgba(60, 64, 67, 0.15);\n",
              "      fill: #174EA6;\n",
              "    }\n",
              "\n",
              "    [theme=dark] .colab-df-convert {\n",
              "      background-color: #3B4455;\n",
              "      fill: #D2E3FC;\n",
              "    }\n",
              "\n",
              "    [theme=dark] .colab-df-convert:hover {\n",
              "      background-color: #434B5C;\n",
              "      box-shadow: 0px 1px 3px 1px rgba(0, 0, 0, 0.15);\n",
              "      filter: drop-shadow(0px 1px 2px rgba(0, 0, 0, 0.3));\n",
              "      fill: #FFFFFF;\n",
              "    }\n",
              "  </style>\n",
              "\n",
              "      <script>\n",
              "        const buttonEl =\n",
              "          document.querySelector('#df-8df46a15-e6a6-422f-b446-979a05e34745 button.colab-df-convert');\n",
              "        buttonEl.style.display =\n",
              "          google.colab.kernel.accessAllowed ? 'block' : 'none';\n",
              "\n",
              "        async function convertToInteractive(key) {\n",
              "          const element = document.querySelector('#df-8df46a15-e6a6-422f-b446-979a05e34745');\n",
              "          const dataTable =\n",
              "            await google.colab.kernel.invokeFunction('convertToInteractive',\n",
              "                                                     [key], {});\n",
              "          if (!dataTable) return;\n",
              "\n",
              "          const docLinkHtml = 'Like what you see? Visit the ' +\n",
              "            '<a target=\"_blank\" href=https://colab.research.google.com/notebooks/data_table.ipynb>data table notebook</a>'\n",
              "            + ' to learn more about interactive tables.';\n",
              "          element.innerHTML = '';\n",
              "          dataTable['output_type'] = 'display_data';\n",
              "          await google.colab.output.renderOutput(dataTable, element);\n",
              "          const docLink = document.createElement('div');\n",
              "          docLink.innerHTML = docLinkHtml;\n",
              "          element.appendChild(docLink);\n",
              "        }\n",
              "      </script>\n",
              "    </div>\n",
              "  </div>\n",
              "  "
            ],
            "text/plain": [
              "                      Max Speed\n",
              "Animal Type    Name            \n",
              "Falcon Captive Bob        390.0\n",
              "       Wild    Joe        350.0\n",
              "Parrot Captive Riya        30.0\n",
              "       Wild    Emily       20.0"
            ]
          },
          "metadata": {},
          "execution_count": 20
        }
      ]
    },
    {
      "cell_type": "code",
      "source": [
        "print(data_raw[data_raw[\"DisplayName\"] == \"Michael Thomas\"].groupby([\"NflId\", \"GameId\"])[\"PlayId\"].count())"
      ],
      "metadata": {
        "colab": {
          "base_uri": "https://localhost:8080/"
        },
        "id": "AYwqlCeMTxpy",
        "outputId": "2258e284-24e4-4f44-acbd-75919a5e4a51"
      },
      "execution_count": 47,
      "outputs": [
        {
          "output_type": "stream",
          "name": "stdout",
          "text": [
            "NflId    GameId    \n",
            "2535687  2017092408    13\n",
            "         2017100100     4\n",
            "         2017102600    28\n",
            "         2017110510    23\n",
            "         2017112604    13\n",
            "         2018090907     2\n",
            "         2018092303     8\n",
            "         2018100701     2\n",
            "         2018101100     1\n",
            "         2018102200     3\n",
            "         2018102806     2\n",
            "         2018111200    11\n",
            "         2018111805     4\n",
            "         2018112506    13\n",
            "         2018120207    14\n",
            "         2018120908    15\n",
            "         2018121608    38\n",
            "         2018122300    14\n",
            "         2018123008    18\n",
            "2556370  2017091100    19\n",
            "         2017091705    11\n",
            "         2017092402    18\n",
            "         2017100100    21\n",
            "         2017101504    25\n",
            "         2017102203    22\n",
            "         2017102904    17\n",
            "         2017110503    21\n",
            "         2017111200    28\n",
            "         2017111905    12\n",
            "         2017112607     8\n",
            "         2017120307    16\n",
            "         2017120700    10\n",
            "         2017121705    23\n",
            "         2017122405    16\n",
            "         2017123110    21\n",
            "         2018090906    13\n",
            "         2018091603    18\n",
            "         2018092300    21\n",
            "         2018093011    25\n",
            "         2018100800    14\n",
            "         2018102101    29\n",
            "         2018102811    26\n",
            "         2018110409    25\n",
            "         2018111101    21\n",
            "         2018111809    22\n",
            "         2018112202    24\n",
            "         2018112900    18\n",
            "         2018120907    25\n",
            "         2018121700    27\n",
            "         2018122313    13\n",
            "         2018123007    12\n",
            "Name: PlayId, dtype: int64\n"
          ]
        }
      ]
    },
    {
      "cell_type": "code",
      "source": [
        "data_raw.columns"
      ],
      "metadata": {
        "colab": {
          "base_uri": "https://localhost:8080/"
        },
        "id": "SRMPMPJglGwj",
        "outputId": "422c5108-27d3-48e5-b758-e2c5d7502753"
      },
      "execution_count": 48,
      "outputs": [
        {
          "output_type": "execute_result",
          "data": {
            "text/plain": [
              "Index(['GameId', 'PlayId', 'Team', 'X', 'Y', 'S', 'A', 'Dis', 'Orientation',\n",
              "       'Dir', 'NflId', 'DisplayName', 'JerseyNumber', 'Season', 'YardLine',\n",
              "       'Quarter', 'GameClock', 'PossessionTeam', 'Down', 'Distance',\n",
              "       'FieldPosition', 'HomeScoreBeforePlay', 'VisitorScoreBeforePlay',\n",
              "       'NflIdRusher', 'OffenseFormation', 'OffensePersonnel',\n",
              "       'DefendersInTheBox', 'DefensePersonnel', 'PlayDirection', 'TimeHandoff',\n",
              "       'TimeSnap', 'Yards', 'PlayerHeight', 'PlayerWeight', 'PlayerBirthDate',\n",
              "       'PlayerCollegeName', 'Position', 'HomeTeamAbbr', 'VisitorTeamAbbr',\n",
              "       'Week', 'Stadium', 'Location', 'StadiumType', 'Turf', 'GameWeather',\n",
              "       'Temperature', 'Humidity', 'WindSpeed', 'WindDirection'],\n",
              "      dtype='object')"
            ]
          },
          "metadata": {},
          "execution_count": 48
        }
      ]
    },
    {
      "cell_type": "code",
      "source": [
        "data_raw.groupby([\"Stadium\", \"Season\"])[\"PlayId\"].count()"
      ],
      "metadata": {
        "colab": {
          "base_uri": "https://localhost:8080/"
        },
        "id": "3QOF34oIlBQg",
        "outputId": "d14dda4d-3f7f-4e98-a2bf-7f877ee5d266"
      },
      "execution_count": 52,
      "outputs": [
        {
          "output_type": "execute_result",
          "data": {
            "text/plain": [
              "Stadium                        Season\n",
              "AT&T Stadium                   2017      8448\n",
              "                               2018      7502\n",
              "Arrowhead Stadium              2017      7370\n",
              "                               2018      7964\n",
              "Bank of America Stadium        2017      7128\n",
              "                                         ... \n",
              "U.S. Bank Stadium              2017      8316\n",
              "                               2018      7854\n",
              "University of Phoenix Stadium  2017      7612\n",
              "Wembley Stadium                2017      2002\n",
              "                               2018      2574\n",
              "Name: PlayId, Length: 88, dtype: int64"
            ]
          },
          "metadata": {},
          "execution_count": 52
        }
      ]
    },
    {
      "cell_type": "code",
      "source": [
        "data_raw[\"WindDirection\"].unique()"
      ],
      "metadata": {
        "colab": {
          "base_uri": "https://localhost:8080/"
        },
        "id": "rEE1fbwhl0Aa",
        "outputId": "e6bf7f6f-06be-40e0-86e4-fd5a560f9fa9"
      },
      "execution_count": 53,
      "outputs": [
        {
          "output_type": "execute_result",
          "data": {
            "text/plain": [
              "array(['SW', 'NNE', 'SE', 'East', nan, 'NE', 'North', 'S', 'Northwest',\n",
              "       'SouthWest', 'ENE', 'ESE', 'SSW', 'NW', 'Northeast', 'From S', 'W',\n",
              "       'South', 'West-Southwest', 'E', '13', 'N', 'NNW',\n",
              "       'South Southeast', 'SSE', 'West', 'WSW', 'From SW', 'WNW', 's',\n",
              "       'NorthEast', 'from W', 'W-NW', 'South Southwest', 'Southeast',\n",
              "       'From WSW', 'West Northwest', 'Calm', 'From SSE', 'From W',\n",
              "       'East North East', 'From ESE', 'EAST', 'East Southeast',\n",
              "       'From SSW', '8', 'North East', 'Southwest', 'North/Northwest',\n",
              "       'From NNE', '1', 'N-NE', 'W-SW', 'From NNW'], dtype=object)"
            ]
          },
          "metadata": {},
          "execution_count": 53
        }
      ]
    }
  ]
}